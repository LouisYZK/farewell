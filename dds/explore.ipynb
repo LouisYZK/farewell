{
 "cells": [
  {
   "cell_type": "code",
   "execution_count": 23,
   "metadata": {},
   "outputs": [
    {
     "data": {
      "text/plain": [
       "<matplotlib.collections.PathCollection at 0x117549d00>"
      ]
     },
     "execution_count": 23,
     "metadata": {},
     "output_type": "execute_result"
    },
    {
     "data": {
      "image/png": "[encoded data removed]",
      "text/plain": [
       "<Figure size 432x288 with 1 Axes>"
      ]
     },
     "metadata": {
      "needs_background": "light"
     },
     "output_type": "display_data"
    }
   ],
   "source": [
    "## Bootstrapping\n",
    "ori_data = [ i for i in range(4) ]\n",
    "import random\n",
    "bs_data = []\n",
    "BOOT_NUM = 100000\n",
    "for _ in range(BOOT_NUM):\n",
    "    bs_item = [ random.choice(ori_data) for _ in range(5) ]\n",
    "    bs_data.append(bs_item)\n",
    "stat_dct = {}\n",
    "for item in bs_data:\n",
    "    tpl = tuple(item)\n",
    "    if tpl in stat_dct:\n",
    "        stat_dct[tpl] += 1\n",
    "    else:\n",
    "        stat_dct[tpl] = 1\n",
    "id_dct = {}\n",
    "for ind, (k, v) in enumerate(stat_dct.items()):\n",
    "    id_dct[k] = ind\n",
    "idlist = [ id_dct[tuple(item)] for item in bs_data]\n",
    "counts = list(stat_dct.values())\n",
    "import matplotlib.pyplot as plt\n",
    "odd = True\n",
    "left = []; right = []\n",
    "for item in sorted(counts):\n",
    "    if odd:\n",
    "        left.append(item)\n",
    "        odd = False\n",
    "    else:\n",
    "        right.append(item)\n",
    "        odd = True\n",
    "data = left + right[::-1]\n",
    "plt.scatter([ i for i in range(len(data))], data)"
   ]
  },
  {
   "cell_type": "code",
   "execution_count": 27,
   "metadata": {},
   "outputs": [
    {
     "data": {
      "text/plain": [
       "3125"
      ]
     },
     "execution_count": 27,
     "metadata": {},
     "output_type": "execute_result"
    }
   ],
   "source": []
  },
  {
   "cell_type": "code",
   "execution_count": null,
   "metadata": {},
   "outputs": [],
   "source": []
  }
 ],
 "metadata": {
  "interpreter": {
   "hash": "b82b3dff1d72ebd4a46de07512c0485b2196e1d4e37d511042ca63c43963cd49"
  },
  "kernelspec": {
   "display_name": "Python 3.8.3 64-bit ('base': conda)",
   "name": "python3"
  },
  "language_info": {
   "codemirror_mode": {
    "name": "ipython",
    "version": 3
   },
   "file_extension": ".py",
   "mimetype": "text/x-python",
   "name": "python",
   "nbconvert_exporter": "python",
   "pygments_lexer": "ipython3",
   "version": "3.8.3"
  },
  "orig_nbformat": 4
 },
 "nbformat": 4,
 "nbformat_minor": 2
}